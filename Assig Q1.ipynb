{
 "cells": [
  {
   "cell_type": "code",
   "execution_count": null,
   "id": "0e1905e3",
   "metadata": {},
   "outputs": [],
   "source": [
    "###Write a Python program to get the Fibonacci series between 0 to 50\n",
    "\n",
    "\n",
    "num_1= int(input(\"Enter the range for fibonacci:\"))\n",
    "a=0\n",
    "b=1\n",
    "for sum in range(a,num_1):\n",
    "    sum=a+b\n",
    "    a=b\n",
    "    b=sum\n",
    "    print(sum,end=\",\")"
   ]
  },
  {
   "cell_type": "code",
   "execution_count": null,
   "id": "6f3a1b76",
   "metadata": {},
   "outputs": [],
   "source": []
  }
 ],
 "metadata": {
  "kernelspec": {
   "display_name": "Python 3 (ipykernel)",
   "language": "python",
   "name": "python3"
  },
  "language_info": {
   "codemirror_mode": {
    "name": "ipython",
    "version": 3
   },
   "file_extension": ".py",
   "mimetype": "text/x-python",
   "name": "python",
   "nbconvert_exporter": "python",
   "pygments_lexer": "ipython3",
   "version": "3.10.9"
  }
 },
 "nbformat": 4,
 "nbformat_minor": 5
}
